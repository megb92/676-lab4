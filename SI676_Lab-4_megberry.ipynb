{
 "cells": [
  {
   "cell_type": "markdown",
   "id": "23196904",
   "metadata": {},
   "source": [
    "Meghan Berry\n",
    "SI676 F22 Lab 4"
   ]
  },
  {
   "cell_type": "code",
   "execution_count": 4,
   "id": "fb69e8ca",
   "metadata": {},
   "outputs": [],
   "source": [
    "import os\n",
    "import os.path\n",
    "import shutil"
   ]
  },
  {
   "cell_type": "markdown",
   "id": "286a966f",
   "metadata": {},
   "source": [
    "1) To move around, show location, etc. you would use the os.path module."
   ]
  },
  {
   "cell_type": "markdown",
   "id": "a59ed6b2",
   "metadata": {},
   "source": [
    "2) To view the path to current directory:"
   ]
  },
  {
   "cell_type": "code",
   "execution_count": 7,
   "id": "d49a19a7",
   "metadata": {},
   "outputs": [
    {
     "data": {
      "text/plain": [
       "'C:\\\\Users\\\\Meghan'"
      ]
     },
     "execution_count": 7,
     "metadata": {},
     "output_type": "execute_result"
    }
   ],
   "source": [
    "os.getcwd()"
   ]
  },
  {
   "cell_type": "markdown",
   "id": "86c32059",
   "metadata": {},
   "source": [
    "3) *this doesn't work yet*"
   ]
  },
  {
   "cell_type": "code",
   "execution_count": 8,
   "id": "571779a0",
   "metadata": {},
   "outputs": [
    {
     "ename": "FileNotFoundError",
     "evalue": "[WinError 3] The system cannot find the path specified: 'C\\\\C'",
     "output_type": "error",
     "traceback": [
      "\u001b[1;31m---------------------------------------------------------------------------\u001b[0m",
      "\u001b[1;31mFileNotFoundError\u001b[0m                         Traceback (most recent call last)",
      "Input \u001b[1;32mIn [8]\u001b[0m, in \u001b[0;36m<cell line: 3>\u001b[1;34m()\u001b[0m\n\u001b[0;32m      4\u001b[0m x \u001b[38;5;241m=\u001b[39m os\u001b[38;5;241m.\u001b[39mpath\u001b[38;5;241m.\u001b[39mrelpath(\u001b[38;5;28mdir\u001b[39m)\n\u001b[0;32m      5\u001b[0m \u001b[38;5;28;01mfor\u001b[39;00m folder \u001b[38;5;129;01min\u001b[39;00m \u001b[38;5;28mdir\u001b[39m:\n\u001b[1;32m----> 6\u001b[0m     \u001b[43mos\u001b[49m\u001b[38;5;241;43m.\u001b[39;49m\u001b[43mlistdir\u001b[49m\u001b[43m(\u001b[49m\u001b[43mos\u001b[49m\u001b[38;5;241;43m.\u001b[39;49m\u001b[43mpath\u001b[49m\u001b[38;5;241;43m.\u001b[39;49m\u001b[43mjoin\u001b[49m\u001b[43m(\u001b[49m\u001b[43mx\u001b[49m\u001b[43m,\u001b[49m\u001b[43m \u001b[49m\u001b[43mfolder\u001b[49m\u001b[43m)\u001b[49m\u001b[43m)\u001b[49m\n",
      "\u001b[1;31mFileNotFoundError\u001b[0m: [WinError 3] The system cannot find the path specified: 'C\\\\C'"
     ]
    }
   ],
   "source": [
    "cur_loc = os.getcwd()\n",
    "file_list = ()\n",
    "for dir in cur_loc:\n",
    "    x = os.path.relpath(dir)\n",
    "    for folder in dir:\n",
    "        os.listdir(os.path.join(x, folder))"
   ]
  },
  {
   "cell_type": "markdown",
   "id": "6171f395",
   "metadata": {},
   "source": [
    "4) os.path can be used to view a file's absolute and relative paths, find out if it is a file or directory, and metadata like file size and timestamp."
   ]
  },
  {
   "cell_type": "markdown",
   "id": "d429bb11",
   "metadata": {},
   "source": [
    "5) When the open() method is used, you must also remember to use the close() method. Using with open(..) as seems more efficient and safe since it will automatically close the file after running the loop."
   ]
  },
  {
   "cell_type": "code",
   "execution_count": null,
   "id": "53b58e86",
   "metadata": {},
   "outputs": [],
   "source": []
  }
 ],
 "metadata": {
  "kernelspec": {
   "display_name": "Python 3 (ipykernel)",
   "language": "python",
   "name": "python3"
  },
  "language_info": {
   "codemirror_mode": {
    "name": "ipython",
    "version": 3
   },
   "file_extension": ".py",
   "mimetype": "text/x-python",
   "name": "python",
   "nbconvert_exporter": "python",
   "pygments_lexer": "ipython3",
   "version": "3.9.12"
  }
 },
 "nbformat": 4,
 "nbformat_minor": 5
}
