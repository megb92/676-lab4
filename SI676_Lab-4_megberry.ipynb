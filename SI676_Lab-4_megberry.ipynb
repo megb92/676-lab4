{
 "cells": [
  {
   "cell_type": "markdown",
   "id": "d254fa4c",
   "metadata": {},
   "source": [
    "Meghan Berry\n",
    "SI676 F22 Lab 4"
   ]
  },
  {
   "cell_type": "code",
   "execution_count": 4,
   "id": "212bb094",
   "metadata": {},
   "outputs": [],
   "source": [
    "import os\n",
    "import os.path\n",
    "import shutil"
   ]
  },
  {
   "cell_type": "markdown",
   "id": "17ccfed7",
   "metadata": {},
   "source": [
    "1) To move around, show location, etc. you would use the os.path module."
   ]
  },
  {
   "cell_type": "markdown",
   "id": "a2788754",
   "metadata": {},
   "source": [
    "2) To view the path to current directory:"
   ]
  },
  {
   "cell_type": "code",
   "execution_count": null,
   "id": "7e759634",
   "metadata": {},
   "outputs": [],
   "source": [
    "os.getcwd()"
   ]
  },
  {
   "cell_type": "markdown",
   "id": "15b1defb",
   "metadata": {},
   "source": [
    "3) *This question was a struggle and I have not written a working function. These are the two versions that got closest to what I was trying to do.*"
   ]
  },
  {
   "cell_type": "code",
   "execution_count": null,
   "id": "8d319e34",
   "metadata": {},
   "outputs": [],
   "source": [
    "cur_loc = os.getcwd()\n",
    "file_list = ()\n",
    "for dir in cur_loc:\n",
    "    x = os.path.relpath(dir)\n",
    "    for folder in dir:\n",
    "        os.listdir(os.path.join(x, folder))"
   ]
  },
  {
   "cell_type": "code",
   "execution_count": null,
   "id": "50b33518",
   "metadata": {},
   "outputs": [],
   "source": [
    "for item in os.listdir('webfiles-samples'):\n",
    "    if os.path.isdir(item) == True:\n",
    "        path = os.path.join('webfiles-samples',item)\n",
    "        print(os.listdir(path))"
   ]
  },
  {
   "cell_type": "markdown",
   "id": "a3aba2d7",
   "metadata": {},
   "source": [
    "4) os.path can be used to view a file's absolute and relative paths, find out if it is a file or directory, and metadata like file size and timestamp."
   ]
  },
  {
   "cell_type": "markdown",
   "id": "0e586d8d",
   "metadata": {},
   "source": [
    "5) When the open() method is used, you must also remember to use the close() method. Using with open(..) as seems more efficient and safe since it will automatically close the file after running the loop."
   ]
  }
 ],
 "metadata": {
  "kernelspec": {
   "display_name": "Python 3 (ipykernel)",
   "language": "python",
   "name": "python3"
  },
  "language_info": {
   "codemirror_mode": {
    "name": "ipython",
    "version": 3
   },
   "file_extension": ".py",
   "mimetype": "text/x-python",
   "name": "python",
   "nbconvert_exporter": "python",
   "pygments_lexer": "ipython3",
   "version": "3.9.12"
  }
 },
 "nbformat": 4,
 "nbformat_minor": 5
}
