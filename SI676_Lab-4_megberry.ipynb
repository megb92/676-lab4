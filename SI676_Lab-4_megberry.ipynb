{
 "cells": [
  {
   "cell_type": "markdown",
   "id": "d254fa4c",
   "metadata": {},
   "source": [
    "Meghan Berry\n",
    "SI676 F22 Lab 4"
   ]
  },
  {
   "cell_type": "code",
   "execution_count": 1,
   "id": "212bb094",
   "metadata": {},
   "outputs": [],
   "source": [
    "import os\n",
    "import os.path\n",
    "import shutil"
   ]
  },
  {
   "cell_type": "markdown",
   "id": "17ccfed7",
   "metadata": {},
   "source": [
    "1) To move around, show location, etc. you would use the os.path module."
   ]
  },
  {
   "cell_type": "markdown",
   "id": "a2788754",
   "metadata": {},
   "source": [
    "2) To view the path to current directory:"
   ]
  },
  {
   "cell_type": "code",
   "execution_count": null,
   "id": "7e759634",
   "metadata": {},
   "outputs": [],
   "source": [
    "os.getcwd()"
   ]
  },
  {
   "cell_type": "markdown",
   "id": "15b1defb",
   "metadata": {},
   "source": [
    "3) *This question was a struggle and I have not written a working function. These are the two versions that got closest to what I was trying to do.*"
   ]
  },
  {
   "cell_type": "code",
   "execution_count": 2,
   "id": "8d319e34",
   "metadata": {},
   "outputs": [
    {
     "name": "stdout",
     "output_type": "stream",
     "text": [
      "video\n",
      "['vlwhcssc.asx', '04-04-21full.asf', 'glmp_cig.EQ.wm.p20.t12z', 'oct17cc.asx']\n",
      "\n",
      "pdf\n",
      "['01-1480.pdf', 'file.pdf', 'Chapter03.pdf', 'PFCHEJ.pdf', 'HR2021 commtext.pdf']\n",
      "\n",
      "image\n",
      "['13080t.jpg', 'orca.via_.moc_.noaa_.jpg', 'k7989-7x.jpg', 'm237a2f.gif', '1005107061.tif']\n",
      "\n",
      "audio\n",
      "['11-3250JohnsonvFolinoEtAl.wma', 'NEWSLINE_802AF71F439D401585C6FCB02F358307.mp3', 'mj_telework_exchange_final_100710.mp3', '000727.ram']\n",
      "\n",
      "presentation\n",
      "['BudgetandGrants012710.ppt', 'ADAEMPLOYMENTTaxIncentives.ppt', 'Non-FTE-Trainee-Activities-060109.ppt']\n",
      "\n"
     ]
    }
   ],
   "source": [
    "webfiles_path = os.path.join('data','webfiles-samples')\n",
    "# modify from regular list to .listdir to provide the paths directly into the list\n",
    "file_list = os.listdir(os.path.join(os.getcwd(),webfiles_path))\n",
    "\n",
    "for dir in os.listdir(webfiles_path):\n",
    "    if os.path.isdir(os.path.join(webfiles_path,dir)):\n",
    "        print(dir)\n",
    "        print(os.listdir(os.path.join(webfiles_path, dir)), end=\"\\n\\n\")"
   ]
  },
  {
   "cell_type": "markdown",
   "id": "ae4231d8",
   "metadata": {},
   "source": [
    "Quicker start in the second one: I added the 'data' folder to mimic the course repo"
   ]
  },
  {
   "cell_type": "code",
   "execution_count": 3,
   "id": "50b33518",
   "metadata": {},
   "outputs": [
    {
     "name": "stdout",
     "output_type": "stream",
     "text": [
      "['vlwhcssc.asx', '04-04-21full.asf', 'glmp_cig.EQ.wm.p20.t12z', 'oct17cc.asx']\n",
      "['01-1480.pdf', 'file.pdf', 'Chapter03.pdf', 'PFCHEJ.pdf', 'HR2021 commtext.pdf']\n",
      "['13080t.jpg', 'orca.via_.moc_.noaa_.jpg', 'k7989-7x.jpg', 'm237a2f.gif', '1005107061.tif']\n",
      "['11-3250JohnsonvFolinoEtAl.wma', 'NEWSLINE_802AF71F439D401585C6FCB02F358307.mp3', 'mj_telework_exchange_final_100710.mp3', '000727.ram']\n",
      "['BudgetandGrants012710.ppt', 'ADAEMPLOYMENTTaxIncentives.ppt', 'Non-FTE-Trainee-Activities-060109.ppt']\n"
     ]
    }
   ],
   "source": [
    "for item in os.listdir(os.path.join('data','webfiles-samples')): #note use of os.path.join\n",
    "    path = os.path.join(os.getcwd(),'data','webfiles-samples',item) # convert the item to a path\n",
    "    if os.path.isdir(path) == True:\n",
    "        print(os.listdir(path)) # these are the lists you're looking for!"
   ]
  },
  {
   "cell_type": "markdown",
   "id": "a3aba2d7",
   "metadata": {},
   "source": [
    "4) os.path can be used to view a file's absolute and relative paths, find out if it is a file or directory, and metadata like file size and timestamp."
   ]
  },
  {
   "cell_type": "markdown",
   "id": "0e586d8d",
   "metadata": {},
   "source": [
    "5) When the open() method is used, you must also remember to use the close() method. Using with open(..) as seems more efficient and safe since it will automatically close the file after running the loop."
   ]
  }
 ],
 "metadata": {
  "kernelspec": {
   "display_name": "Python 3.9.6 64-bit",
   "language": "python",
   "name": "python3"
  },
  "language_info": {
   "codemirror_mode": {
    "name": "ipython",
    "version": 3
   },
   "file_extension": ".py",
   "mimetype": "text/x-python",
   "name": "python",
   "nbconvert_exporter": "python",
   "pygments_lexer": "ipython3",
   "version": "3.9.6"
  },
  "vscode": {
   "interpreter": {
    "hash": "31f2aee4e71d21fbe5cf8b01ff0e069b9275f58929596ceb00d14d90e3e16cd6"
   }
  }
 },
 "nbformat": 4,
 "nbformat_minor": 5
}
